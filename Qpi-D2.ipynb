
import requests
from geopy.geocoders import Nominatim
import time

# OpenStreetMap의 Nominatim API를 사용하여 주소로부터 위도, 경도를 가져오는 함수
def get_location_coordinates(location):
    geolocator = Nominatim(user_agent="date_course_chatbot")
    try:
        # 명시적으로 헤더에 User-Agent 추가
        headers = {
            'User-Agent': 'date_course_chatbot/1.0 (your_email@example.com)'
        }
        params = {
            "q": location,
            "format": "json",
            "addressdetails": 1
        }
        # 요청에 지연을 추가하여 차단을 피함
        time.sleep(1)  # 1초 지연
        response = requests.get("https://nominatim.openstreetmap.org/search", headers=headers, params=params)
        response.raise_for_status()

        location_info = response.json()
        if location_info:
            lat = float(location_info[0]['lat'])
            lon = float(location_info[0]['lon'])
            return lat, lon
        else:
            print(f"위치 정보가 없습니다: {location}")
            return None, None
    except Exception as e:
        print(f"위치 정보 가져오기 오류: {e}")
        return None, None

# OpenStreetMap API를 사용해 장소 정보 가져오기
def get_osm_place_info(query, lat, lon, radius_km=5, country_code="KR"):  # 반경을 5km로 변경
    base_url = "https://nominatim.openstreetmap.org/search"
    params = {
        "q": query,
        "format": "json",
        "addressdetails": 1,
        "countrycodes": country_code,  # 대한민국만 검색
        "lat": lat,
        "lon": lon,
        "radius": radius_km * 1000,  # 반경을 미터로 변환
        "limit": 5  # 한 번에 최대 5개 장소를 반환
    }
    headers = {
        'User-Agent': 'date_course_chatbot/1.0 (your_email@example.com)'
    }

    try:
        time.sleep(1)  # 요청 사이에 지연 추가
        response = requests.get(base_url, headers=headers, params=params)
        response.raise_for_status()

        data = response.json()
        place_data = []
        for place in data:
            name = place.get('display_name')
            lat = place.get('lat')
            lon = place.get('lon')
            place_data.append({
                'name': name,
                'latitude': lat,
                'longitude': lon,
                'link': f"https://www.openstreetmap.org/?mlat={lat}&mlon={lon}#map=15/{lat}/{lon}"
            })
        return place_data

    except requests.exceptions.RequestException as e:
        print(f"요청 실패: {e}")
        return []

# 맛집 관련 장소를 구체적인 키워드로 검색하는 함수
def get_osm_restaurant_info(location, lat, lon):
    restaurant_keywords = ["음식점", "식당", "맛집", "restaurant"]
    restaurant_data = []
    
    for keyword in restaurant_keywords:
        places = get_osm_place_info(f"{location} {keyword}", lat, lon)
        restaurant_data.extend(places)
    
    return restaurant_data

# 카페 관련 장소를 구체적인 키워드로 검색하는 함수
def get_osm_cafe_info(location, lat, lon):
    cafe_keywords = ["카페", "cafe"]
    cafe_data = []
    
    for keyword in cafe_keywords:
        places = get_osm_place_info(f"{location} {keyword}", lat, lon)
        cafe_data.extend(places)
    
    return cafe_data

# 놀거리 관련 장소를 구체적인 키워드로 검색하는 함수
def get_osm_leisure_info(location, lat, lon):
    leisure_keywords = ["박물관", "공원", "영화관", "문화 생활", "museum", "park", "playground"]
    leisure_data = []
    
    for keyword in leisure_keywords:
        places = get_osm_place_info(f"{location} {keyword}", lat, lon)
        leisure_data.extend(places)
    
    return leisure_data

# 사용자의 입력을 받는 함수
def get_user_input():
    location_input = input("어떤 지역에서 데이트 코스를 추천받고 싶나요? (ex. 서울 강남, 부산 해운대, 서울 연남동 등등) '종료'라고 입력해주시면 챗봇이 종료됩니다.
").strip().lower()
    return location_input

# 추천 장소를 출력하는 함수
def recommend_places_nearby(location, exclude_places=[]):
    # 지역의 위도와 경도 가져오기
    lat, lon = get_location_coordinates(location)
    if lat is None or lon is None:
        print(f"잘못된 지역명입니다: {location}")
        return

    print(f"Qpi-D가 {location}에서 추천하는 데이트 코스는 다음과 같습니다:")

    # 맛집 추천
    restaurant_data = get_osm_restaurant_info(location, lat, lon)
    print("
추천 맛집:")
    if restaurant_data:
        for place in restaurant_data:
            if place not in exclude_places:
                print(f" - {place['name']}: {place['link']}")
                exclude_places.append(place)  # 추천한 곳은 제외 목록에 추가
                break  # 한 곳만 추천
    else:
        print("추천할 맛집이 없습니다. 해당 지역 정보 갱신을 기대해주세요! ")

    # 카페 추천
    cafe_data = get_osm_cafe_info(location, lat, lon)
    print("
추천 카페:")
    if cafe_data:
        for place in cafe_data:
            if place not in exclude_places:
                print(f" - {place['name']}: {place['link']}")
                exclude_places.append(place)  # 추천한 곳은 제외 목록에 추가
                break  # 한 곳만 추천
    else:
        print("추천할 카페가 없습니다. 해당 지역 정보 갱신을 기대해주세요! ")

    # 놀거리 추천
    leisure_data = get_osm_leisure_info(location, lat, lon)  # 놀거리는 별도로 처리
    print("
추천 놀거리:")
    if leisure_data:
        for place in leisure_data:
            if place not in exclude_places:
                print(f" - {place['name']}: {place['link']}")
                exclude_places.append(place)  # 추천한 곳은 제외 목록에 추가
                break  # 한 곳만 추천
    else:
        print("추천할 놀거리가 없습니다. 해당 지역 정보 갱신을 기대해주세요! ")

    # 추천 후 추가 멘트
    print("
성공적인 데이트를 기원합니다! 다른 코스가 궁금하시다면 '다른 코스', 다른 지역 검색을 원하시면 '다른 지역 설정', 종료를 원하신다면 '종료'를 입력해주세요.")

# 메인 챗봇 함수: 사용자가 입력한 지역에 대해 추천
def run_chatbot():
    print("데이트 코스 추천 챗봇 Qpi-D 입니다.")
    exclude_places = []  # 추천된 장소들을 제외할 리스트

    while True:
        location = get_user_input()

        # 사용자가 '종료'를 입력하면 챗봇 종료
        if location == '종료':
            print("Qpi-D를 종료합니다.")
            break

        # 추천 장소를 출력
        recommend_places_nearby(location, exclude_places)

        # 사용자가 '다른 코스' 또는 '다른 지역 설정'을 입력하면 해당 지역 주변의 다른 장소 추천
        while True:
            user_input = input().strip().lower()
            if user_input == '다른 코스':
                recommend_places_nearby(location, exclude_places)
                break
            elif user_input == '다른 지역 설정':
                print("다른 지역을 입력해주세요.")
                break
            elif user_input == '종료':
                print("Qpi-D를 종료합니다.")
                return
            else:
                print("잘못된 입력입니다. '다른 코스', '다른 지역 설정', 또는 '종료'를 입력해주세요.")

# 챗봇 실행
run_chatbot()
